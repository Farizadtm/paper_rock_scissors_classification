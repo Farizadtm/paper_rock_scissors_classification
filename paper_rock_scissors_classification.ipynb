{
 "cells": [
  {
   "cell_type": "markdown",
   "metadata": {
    "id": "PEE42KkT9QIy"
   },
   "source": [
    "# Identitas"
   ]
  },
  {
   "cell_type": "markdown",
   "metadata": {
    "id": "63i5Ekzc873B"
   },
   "source": [
    " Fariz Aditama / farizadtm27@gmail.com"
   ]
  },
  {
   "cell_type": "markdown",
   "metadata": {
    "id": "gtasitGYXWGI"
   },
   "source": [
    "# Install Modul"
   ]
  },
  {
   "cell_type": "code",
   "execution_count": null,
   "metadata": {
    "colab": {
     "base_uri": "https://localhost:8080/"
    },
    "id": "bJi2ASZ5MlmN",
    "outputId": "7d2c9931-6b85-4721-e047-e87fb62888bd"
   },
   "outputs": [
    {
     "name": "stdout",
     "output_type": "stream",
     "text": [
      "Collecting split-folders\n",
      "  Downloading https://files.pythonhosted.org/packages/b8/5f/3c2b2f7ea5e047c8cdc3bb00ae582c5438fcdbbedcc23b3cc1c2c7aae642/split_folders-0.4.3-py3-none-any.whl\n",
      "Installing collected packages: split-folders\n",
      "Successfully installed split-folders-0.4.3\n"
     ]
    }
   ],
   "source": [
    "!pip install split-folders"
   ]
  },
  {
   "cell_type": "code",
   "execution_count": null,
   "metadata": {
    "colab": {
     "base_uri": "https://localhost:8080/"
    },
    "id": "FqWVGlgQva9-",
    "outputId": "2699a66c-cd6a-4eb3-8d75-fbac2b9200ca"
   },
   "outputs": [
    {
     "name": "stdout",
     "output_type": "stream",
     "text": [
      "Reading package lists... Done\n",
      "Building dependency tree       \n",
      "Reading state information... Done\n",
      "The following NEW packages will be installed:\n",
      "  tree\n",
      "0 upgraded, 1 newly installed, 0 to remove and 39 not upgraded.\n",
      "Need to get 40.7 kB of archives.\n",
      "After this operation, 105 kB of additional disk space will be used.\n",
      "Get:1 http://archive.ubuntu.com/ubuntu bionic/universe amd64 tree amd64 1.7.0-5 [40.7 kB]\n",
      "Fetched 40.7 kB in 1s (42.2 kB/s)\n",
      "debconf: unable to initialize frontend: Dialog\n",
      "debconf: (No usable dialog-like program is installed, so the dialog based frontend cannot be used. at /usr/share/perl5/Debconf/FrontEnd/Dialog.pm line 76, <> line 1.)\n",
      "debconf: falling back to frontend: Readline\n",
      "debconf: unable to initialize frontend: Readline\n",
      "debconf: (This frontend requires a controlling tty.)\n",
      "debconf: falling back to frontend: Teletype\n",
      "dpkg-preconfigure: unable to re-open stdin: \n",
      "Selecting previously unselected package tree.\n",
      "(Reading database ... 160772 files and directories currently installed.)\n",
      "Preparing to unpack .../tree_1.7.0-5_amd64.deb ...\n",
      "Unpacking tree (1.7.0-5) ...\n",
      "Setting up tree (1.7.0-5) ...\n",
      "Processing triggers for man-db (2.8.3-2ubuntu0.1) ...\n"
     ]
    }
   ],
   "source": [
    "!sudo apt install tree"
   ]
  },
  {
   "cell_type": "markdown",
   "metadata": {
    "id": "VQIYc1P0vy3M"
   },
   "source": [
    "# Import Library"
   ]
  },
  {
   "cell_type": "code",
   "execution_count": null,
   "metadata": {
    "id": "FazyF8iSvyMW"
   },
   "outputs": [],
   "source": [
    "import zipfile,os\n",
    "import tensorflow as tf\n",
    "import shutil\n",
    "import splitfolders\n",
    "import keras_preprocessing\n",
    "import numpy as np\n",
    "import matplotlib.pyplot as plt\n",
    "import matplotlib.image as mpimg\n",
    "%matplotlib inline\n",
    "\n",
    "from google.colab import files\n",
    "from tensorflow.keras.preprocessing.image import ImageDataGenerator\n",
    "from sklearn.model_selection import train_test_split\n",
    "from tensorflow.keras.optimizers import RMSprop\n",
    "from keras_preprocessing import image\n",
    "from keras_preprocessing.image import ImageDataGenerator"
   ]
  },
  {
   "cell_type": "markdown",
   "metadata": {
    "id": "7et-tGzHQnYk"
   },
   "source": [
    "# Import dataset"
   ]
  },
  {
   "cell_type": "code",
   "execution_count": null,
   "metadata": {
    "colab": {
     "base_uri": "https://localhost:8080/"
    },
    "id": "_3U2uB2rvr_I",
    "outputId": "c271e5c8-1055-4fe9-8971-4450305dceb1"
   },
   "outputs": [
    {
     "name": "stdout",
     "output_type": "stream",
     "text": [
      "--2021-06-11 02:30:59--  https://dicodingacademy.blob.core.windows.net/picodiploma/ml_pemula_academy/rockpaperscissors.zip\n",
      "Resolving dicodingacademy.blob.core.windows.net (dicodingacademy.blob.core.windows.net)... 52.239.197.36\n",
      "Connecting to dicodingacademy.blob.core.windows.net (dicodingacademy.blob.core.windows.net)|52.239.197.36|:443... connected.\n",
      "HTTP request sent, awaiting response... 200 OK\n",
      "Length: 322873683 (308M) [application/zip]\n",
      "Saving to: ‘/tmp/rockpaperscissors.zip’\n",
      "\n",
      "/tmp/rockpapersciss 100%[===================>] 307.92M  3.74MB/s    in 63s     \n",
      "\n",
      "2021-06-11 02:32:02 (4.86 MB/s) - ‘/tmp/rockpaperscissors.zip’ saved [322873683/322873683]\n",
      "\n"
     ]
    }
   ],
   "source": [
    "!wget --no-check-certificate \\\n",
    "    https://dicodingacademy.blob.core.windows.net/picodiploma/ml_pemula_academy/rockpaperscissors.zip \\\n",
    "    -O /tmp/rockpaperscissors.zip"
   ]
  },
  {
   "cell_type": "markdown",
   "metadata": {
    "id": "EZGtgEwH1Gy9"
   },
   "source": [
    "# Dataset\n",
    "Karena dataset yang digunakan memiliki format .zip maka sebelum digunakan kita perlu melakukan ekstrak file terlebih dahulu"
   ]
  },
  {
   "cell_type": "markdown",
   "metadata": {
    "id": "IM3KJk8OI7ES"
   },
   "source": [
    "## Ekstrak File"
   ]
  },
  {
   "cell_type": "code",
   "execution_count": null,
   "metadata": {
    "id": "yVcXZrV33cjq"
   },
   "outputs": [],
   "source": [
    "# Pilih file yang ingin diekstrak\n",
    "zip_file = '/tmp/rockpaperscissors.zip'\n",
    "zip_ref = zipfile.ZipFile(zip_file,'r')\n",
    "# Ekstrak ke dalam direktori yang diinginkan\n",
    "zip_ref.extractall('/tmp/dicoding')\n",
    "zip_ref.close()"
   ]
  },
  {
   "cell_type": "markdown",
   "metadata": {
    "id": "uyq-3vvFJEOa"
   },
   "source": [
    "## Split dataset \n",
    "Data yang sudah diekstrak kemudian dibagi setiap kelas(rock, paper & scissors) kedalam folder train dan validation\n",
    "\n",
    "Agar mempersingkat proses maka kita akan menggunakan library splitfolders"
   ]
  },
  {
   "cell_type": "code",
   "execution_count": null,
   "metadata": {
    "id": "Z5ZxB7xq2VLa"
   },
   "outputs": [],
   "source": [
    "# Inisialisasi base direktori\n",
    "base_dir = '/tmp/dicoding/rockpaperscissors/'"
   ]
  },
  {
   "cell_type": "code",
   "execution_count": null,
   "metadata": {
    "colab": {
     "base_uri": "https://localhost:8080/"
    },
    "id": "tJIgYpucEQ-X",
    "outputId": "17a92010-0c92-4c74-8ecb-feade680cd28"
   },
   "outputs": [
    {
     "name": "stderr",
     "output_type": "stream",
     "text": [
      "Copying files: 2189 files [00:00, 3016.04 files/s]\n"
     ]
    }
   ],
   "source": [
    "# Split data setiap kelas dengan library splitfolders\n",
    "splitfolders.ratio('/tmp/dicoding/rockpaperscissors/',\n",
    "                    output ='/tmp/dicoding/rockpaperscissors/data_model',\n",
    "                    seed=None, ratio=(.6,.4)) \n",
    "# Data secara otomatis akan terbagi kedalam 2 folder yaitu train(data training) dan val(data validation)"
   ]
  },
  {
   "cell_type": "markdown",
   "metadata": {
    "id": "Y3slfGjpav1S"
   },
   "source": [
    "Pada folder yang sudah diekstrak terdapat folder yang tidak akan kita gunakan yaitu rps-cv-images, maka folder tersebut yang sudah terbagi pada train dan val perlu kita hapus"
   ]
  },
  {
   "cell_type": "code",
   "execution_count": null,
   "metadata": {
    "colab": {
     "base_uri": "https://localhost:8080/"
    },
    "id": "zfQ_9DaIvfsK",
    "outputId": "a791e914-7583-4187-eebc-5454f67bb826"
   },
   "outputs": [
    {
     "name": "stdout",
     "output_type": "stream",
     "text": [
      "/tmp/dicoding/rockpaperscissors/data_model\n",
      "├── train\n",
      "│   ├── paper\n",
      "│   ├── rock\n",
      "│   ├── rps-cv-images\n",
      "│   └── scissors\n",
      "└── val\n",
      "    ├── paper\n",
      "    ├── rock\n",
      "    ├── rps-cv-images\n",
      "    └── scissors\n",
      "\n",
      "10 directories\n"
     ]
    }
   ],
   "source": [
    "!tree -d /tmp/dicoding/rockpaperscissors/data_model"
   ]
  },
  {
   "cell_type": "code",
   "execution_count": null,
   "metadata": {
    "id": "hko93YvoWro1"
   },
   "outputs": [],
   "source": [
    "!rm -rf '/tmp/dicoding/rockpaperscissors/data_model/train/rps-cv-images'\n",
    "!rm -rf '/tmp/dicoding/rockpaperscissors/data_model/val/rps-cv-images'"
   ]
  },
  {
   "cell_type": "markdown",
   "metadata": {
    "id": "OPKzlmuEI9yV"
   },
   "source": [
    "Setelah dilakukan split data, otomatis data sudah terbagi kedalam folder train dan validation"
   ]
  },
  {
   "cell_type": "code",
   "execution_count": null,
   "metadata": {
    "id": "_XI0cvnKPC7A"
   },
   "outputs": [],
   "source": [
    "#Training dan Validation\n",
    "training_dir = \"/tmp/dicoding/rockpaperscissors/data_model/train\"\n",
    "validation_dir = \"/tmp/dicoding/rockpaperscissors/data_model/val\"\n",
    "\n",
    "# Rock\n",
    "rock_dir = os.path.join('/tmp/dicoding/rockpaperscissors/rock')\n",
    "train_rock_dir = os.path.join('/tmp/dicoding/rockpaperscissors/data_model/train/rock') \n",
    "val_rock_dir = os.path.join('/tmp/dicoding/rockpaperscissors/data_model/val/rock') \n",
    "\n",
    "# Paper\n",
    "paper_dir = os.path.join('/tmp/dicoding/rockpaperscissors//paper')\n",
    "train_paper_dir = os.path.join('/tmp/dicoding/rockpaperscissors/data_model/train/paper')\n",
    "val_paper_dir = os.path.join('/tmp/dicoding/rockpaperscissors/data_model/val/paper')\n",
    "\n",
    "# Scissors\n",
    "scissors_dir = os.path.join('/tmp/dicoding/rockpaperscissors/scissors')\n",
    "train_scissors_dir = os.path.join('/tmp/dicoding/rockpaperscissors/data_model/train/scissors')\n",
    "val_scissors_dir = os.path.join('/tmp/dicoding/rockpaperscissors/data_model/val/scissors')"
   ]
  },
  {
   "cell_type": "markdown",
   "metadata": {
    "id": "gweKruhYbUZZ"
   },
   "source": [
    "# Analisis Dataset"
   ]
  },
  {
   "cell_type": "code",
   "execution_count": null,
   "metadata": {
    "colab": {
     "base_uri": "https://localhost:8080/"
    },
    "id": "CVS4qKgAPRvF",
    "outputId": "368a93c7-0b5c-4533-ef79-ed6ebcf2bccb"
   },
   "outputs": [
    {
     "name": "stdout",
     "output_type": "stream",
     "text": [
      "Total Gambar: 2188\n",
      "Total Data Training: 1312\n",
      "Total Data Validation: 876\n"
     ]
    }
   ],
   "source": [
    "# Melakukan pengecekan data yang sudah dibagi\n",
    "print('Total Gambar:', len(os.listdir(rock_dir))+len(os.listdir(paper_dir))+ len(os.listdir(scissors_dir)))\n",
    "print('Total Data Training:', len(os.listdir(train_rock_dir))+len(os.listdir(train_paper_dir))+ len(os.listdir(train_scissors_dir)))\n",
    "print('Total Data Validation:', len(os.listdir(val_rock_dir))+len(os.listdir(val_paper_dir))+ len(os.listdir(val_scissors_dir)))"
   ]
  },
  {
   "cell_type": "markdown",
   "metadata": {
    "id": "7rimtUDOQs4s"
   },
   "source": [
    "# Augmentasi Gambar"
   ]
  },
  {
   "cell_type": "code",
   "execution_count": null,
   "metadata": {
    "id": "H7E-QCQlRecb"
   },
   "outputs": [],
   "source": [
    "train_datagen = ImageDataGenerator(\n",
    "                    rescale=1./255,\n",
    "                    rotation_range=20,\n",
    "                    horizontal_flip=True,\n",
    "                    shear_range = 0.2,\n",
    "                    fill_mode = 'nearest')\n",
    "\n",
    "test_datagen = ImageDataGenerator(\n",
    "                    rescale=1./255,\n",
    "                    rotation_range=20,\n",
    "                    horizontal_flip=True,\n",
    "                    shear_range = 0.2,\n",
    "                    fill_mode = 'nearest')"
   ]
  },
  {
   "cell_type": "markdown",
   "metadata": {
    "id": "o06Sj5PWz8Sy"
   },
   "source": [
    "# Data Generator "
   ]
  },
  {
   "cell_type": "markdown",
   "metadata": {
    "id": "E3su6DGjz8Qi"
   },
   "source": []
  },
  {
   "cell_type": "code",
   "execution_count": null,
   "metadata": {
    "colab": {
     "base_uri": "https://localhost:8080/"
    },
    "id": "id0WIeRxU5UB",
    "outputId": "eb50ea60-1add-44e5-944e-43a39f10c95f"
   },
   "outputs": [
    {
     "name": "stdout",
     "output_type": "stream",
     "text": [
      "Found 1312 images belonging to 3 classes.\n",
      "Found 876 images belonging to 3 classes.\n"
     ]
    }
   ],
   "source": [
    "train_generator = train_datagen.flow_from_directory(\n",
    "        training_dir,  #direktori train data yang sudah disiapkan\n",
    "        target_size=(150, 150),  #mengubah resolusi gambar menjadi 150x150\n",
    "        batch_size=4,\n",
    "        class_mode='categorical') #karena klasifikasi yang akan dilakukan lebih dari 2 kelas maka menggunakan categorical\n",
    "\n",
    "validation_generator = test_datagen.flow_from_directory(\n",
    "        validation_dir, #direktori train data yang sudah disiapkan\n",
    "        target_size=(150, 150), #mengubah resolusi gambar menjadi 150x150\n",
    "        batch_size=4, \n",
    "        class_mode='categorical') #karena klasifikasi yang akan dilakukan lebih dari 2 kelas maka menggunakan categorical"
   ]
  },
  {
   "cell_type": "markdown",
   "metadata": {
    "id": "k3oWDxfYq-wN"
   },
   "source": [
    "# Sequential"
   ]
  },
  {
   "cell_type": "code",
   "execution_count": null,
   "metadata": {
    "id": "zmm4eGVBVFwa"
   },
   "outputs": [],
   "source": [
    "model = tf.keras.models.Sequential([\n",
    "    tf.keras.layers.Conv2D(32, (3,3), activation='relu', input_shape=(150, 150, 3)),\n",
    "    tf.keras.layers.MaxPooling2D(2, 2),\n",
    "    tf.keras.layers.Conv2D(64, (3,3), activation='relu'),\n",
    "    tf.keras.layers.MaxPooling2D(2,2),\n",
    "    tf.keras.layers.Conv2D(128, (3,3), activation='relu'),\n",
    "    tf.keras.layers.MaxPooling2D(2,2),\n",
    "    tf.keras.layers.Conv2D(128, (3,3), activation='relu'),\n",
    "    tf.keras.layers.MaxPooling2D(2,2),\n",
    "    tf.keras.layers.Flatten(),\n",
    "    tf.keras.layers.Dense(512, activation='relu'),\n",
    "    tf.keras.layers.Dense(3, activation='softmax')\n",
    "])"
   ]
  },
  {
   "cell_type": "code",
   "execution_count": null,
   "metadata": {
    "colab": {
     "base_uri": "https://localhost:8080/"
    },
    "id": "VCr4F1xaZW-B",
    "outputId": "e37337db-c324-4b26-f455-25ee8d1370cf"
   },
   "outputs": [
    {
     "name": "stdout",
     "output_type": "stream",
     "text": [
      "Model: \"sequential\"\n",
      "_________________________________________________________________\n",
      "Layer (type)                 Output Shape              Param #   \n",
      "=================================================================\n",
      "conv2d (Conv2D)              (None, 148, 148, 32)      896       \n",
      "_________________________________________________________________\n",
      "max_pooling2d (MaxPooling2D) (None, 74, 74, 32)        0         \n",
      "_________________________________________________________________\n",
      "conv2d_1 (Conv2D)            (None, 72, 72, 64)        18496     \n",
      "_________________________________________________________________\n",
      "max_pooling2d_1 (MaxPooling2 (None, 36, 36, 64)        0         \n",
      "_________________________________________________________________\n",
      "conv2d_2 (Conv2D)            (None, 34, 34, 128)       73856     \n",
      "_________________________________________________________________\n",
      "max_pooling2d_2 (MaxPooling2 (None, 17, 17, 128)       0         \n",
      "_________________________________________________________________\n",
      "conv2d_3 (Conv2D)            (None, 15, 15, 128)       147584    \n",
      "_________________________________________________________________\n",
      "max_pooling2d_3 (MaxPooling2 (None, 7, 7, 128)         0         \n",
      "_________________________________________________________________\n",
      "flatten (Flatten)            (None, 6272)              0         \n",
      "_________________________________________________________________\n",
      "dense (Dense)                (None, 512)               3211776   \n",
      "_________________________________________________________________\n",
      "dense_1 (Dense)              (None, 3)                 1539      \n",
      "=================================================================\n",
      "Total params: 3,454,147\n",
      "Trainable params: 3,454,147\n",
      "Non-trainable params: 0\n",
      "_________________________________________________________________\n"
     ]
    }
   ],
   "source": [
    "model.summary()"
   ]
  },
  {
   "cell_type": "markdown",
   "metadata": {
    "id": "AqeruYYHfFuR"
   },
   "source": [
    "# Compile Model"
   ]
  },
  {
   "cell_type": "code",
   "execution_count": null,
   "metadata": {
    "id": "2y4uGmsSbO5l"
   },
   "outputs": [],
   "source": [
    "model.compile(loss = 'categorical_crossentropy', \n",
    "              optimizer=tf.optimizers.Adam(), \n",
    "              metrics=['accuracy'])"
   ]
  },
  {
   "cell_type": "markdown",
   "metadata": {
    "id": "FSwhOFIykuqF"
   },
   "source": [
    "# Callback\n",
    "\n",
    "Membuat class callback yang digunakan untuk menghentikan training ketika sudah mencapai accuracy diatas 96%\n",
    "\n",
    "Callback sendiri dapat kita gunakan dalam berbagai macam case"
   ]
  },
  {
   "cell_type": "code",
   "execution_count": null,
   "metadata": {
    "id": "NmtAd2Mui4vK"
   },
   "outputs": [],
   "source": [
    "class Callback(tf.keras.callbacks.Callback):\n",
    "  def on_epoch_end(self, epoch, logs={}):\n",
    "    if(logs.get('accuracy') > 0.96):  # berhenti training ketika accuracy diatas 96%\n",
    "      self.model.stop_training = True"
   ]
  },
  {
   "cell_type": "markdown",
   "metadata": {
    "id": "u_ealydefOu_"
   },
   "source": [
    "# Train Model"
   ]
  },
  {
   "cell_type": "code",
   "execution_count": null,
   "metadata": {
    "colab": {
     "base_uri": "https://localhost:8080/"
    },
    "id": "8R6iJ-MCSkBM",
    "outputId": "fcb33a28-a634-4554-810b-202f1e937444"
   },
   "outputs": [
    {
     "name": "stdout",
     "output_type": "stream",
     "text": [
      "Epoch 1/100\n",
      "32/32 - 9s - loss: 1.1255 - accuracy: 0.3516 - val_loss: 1.1973 - val_accuracy: 0.1500\n",
      "Epoch 2/100\n",
      "32/32 - 8s - loss: 1.0728 - accuracy: 0.4141 - val_loss: 1.0220 - val_accuracy: 0.4500\n",
      "Epoch 3/100\n",
      "32/32 - 8s - loss: 1.0824 - accuracy: 0.4219 - val_loss: 0.9374 - val_accuracy: 0.6500\n",
      "Epoch 4/100\n",
      "32/32 - 8s - loss: 0.8598 - accuracy: 0.6641 - val_loss: 0.7893 - val_accuracy: 0.7000\n",
      "Epoch 5/100\n",
      "32/32 - 8s - loss: 0.7916 - accuracy: 0.6328 - val_loss: 0.6533 - val_accuracy: 0.8500\n",
      "Epoch 6/100\n",
      "32/32 - 8s - loss: 0.5241 - accuracy: 0.8047 - val_loss: 0.9040 - val_accuracy: 0.8000\n",
      "Epoch 7/100\n",
      "32/32 - 8s - loss: 0.5097 - accuracy: 0.8047 - val_loss: 0.7995 - val_accuracy: 0.6500\n",
      "Epoch 8/100\n",
      "32/32 - 8s - loss: 0.3871 - accuracy: 0.8594 - val_loss: 0.2706 - val_accuracy: 0.8500\n",
      "Epoch 9/100\n",
      "32/32 - 8s - loss: 0.5727 - accuracy: 0.7578 - val_loss: 0.2473 - val_accuracy: 0.9500\n",
      "Epoch 10/100\n",
      "32/32 - 8s - loss: 0.2947 - accuracy: 0.8984 - val_loss: 0.4712 - val_accuracy: 0.8500\n",
      "Epoch 11/100\n",
      "32/32 - 8s - loss: 0.3297 - accuracy: 0.8750 - val_loss: 0.1449 - val_accuracy: 0.9500\n",
      "Epoch 12/100\n",
      "32/32 - 8s - loss: 0.3297 - accuracy: 0.8438 - val_loss: 0.1198 - val_accuracy: 0.9500\n",
      "Epoch 13/100\n",
      "32/32 - 8s - loss: 0.4287 - accuracy: 0.8828 - val_loss: 0.4308 - val_accuracy: 0.8500\n",
      "Epoch 14/100\n",
      "32/32 - 8s - loss: 0.2458 - accuracy: 0.9219 - val_loss: 0.3007 - val_accuracy: 0.9000\n",
      "Epoch 15/100\n",
      "32/32 - 8s - loss: 0.3024 - accuracy: 0.8828 - val_loss: 0.1442 - val_accuracy: 1.0000\n",
      "Epoch 16/100\n",
      "32/32 - 8s - loss: 0.1987 - accuracy: 0.9219 - val_loss: 0.1578 - val_accuracy: 0.9500\n",
      "Epoch 17/100\n",
      "32/32 - 8s - loss: 0.3121 - accuracy: 0.8750 - val_loss: 0.1412 - val_accuracy: 0.9500\n",
      "Epoch 18/100\n",
      "32/32 - 8s - loss: 0.1561 - accuracy: 0.9375 - val_loss: 0.1987 - val_accuracy: 0.9000\n",
      "Epoch 19/100\n",
      "32/32 - 8s - loss: 0.1952 - accuracy: 0.9297 - val_loss: 0.2725 - val_accuracy: 0.9000\n",
      "Epoch 20/100\n",
      "32/32 - 8s - loss: 0.2718 - accuracy: 0.9375 - val_loss: 0.2675 - val_accuracy: 0.9500\n",
      "Epoch 21/100\n",
      "32/32 - 8s - loss: 0.2905 - accuracy: 0.8750 - val_loss: 0.3776 - val_accuracy: 0.8500\n",
      "Epoch 22/100\n",
      "32/32 - 8s - loss: 0.1050 - accuracy: 0.9688 - val_loss: 0.3252 - val_accuracy: 0.9000\n"
     ]
    }
   ],
   "source": [
    "history = model.fit(\n",
    "      train_generator,\n",
    "      steps_per_epoch=32,  # jumlah batch yang akan dieksekusi pada setiap epoch\n",
    "      epochs=100,\n",
    "      validation_data=validation_generator, # menampilkan akurasi pengujian data validasi\n",
    "      validation_steps=5,  # berapa batch yang akan dieksekusi pada setiap epoch\n",
    "      verbose=2,\n",
    "      callbacks=[Callback()])"
   ]
  },
  {
   "cell_type": "markdown",
   "metadata": {
    "id": "Y3lBLOUhyDLg"
   },
   "source": [
    "# Grafik Result"
   ]
  },
  {
   "cell_type": "code",
   "execution_count": null,
   "metadata": {
    "colab": {
     "base_uri": "https://localhost:8080/"
    },
    "id": "vsf1OBBWy7q2",
    "outputId": "2b2350b3-cfc0-4c58-ffdc-74ee49583e3f"
   },
   "outputs": [
    {
     "name": "stdout",
     "output_type": "stream",
     "text": [
      "dict_keys(['loss', 'accuracy', 'val_loss', 'val_accuracy'])\n"
     ]
    }
   ],
   "source": [
    "print(history.history.keys())"
   ]
  },
  {
   "cell_type": "code",
   "execution_count": null,
   "metadata": {
    "colab": {
     "base_uri": "https://localhost:8080/",
     "height": 295
    },
    "id": "MzFnBUbKyA-6",
    "outputId": "50b96969-a708-4648-b8a5-b3668e30cea8"
   },
   "outputs": [
    {
     "data": {
      "image/png": "[encoded data removed]",
      "text/plain": [
       "<Figure size 432x288 with 1 Axes>"
      ]
     },
     "metadata": {
      "needs_background": "light",
      "tags": []
     },
     "output_type": "display_data"
    }
   ],
   "source": [
    "plt.plot(history.history['accuracy'], label='Accuracy', color='blue')\n",
    "plt.plot(history.history['val_accuracy'], label='Validation Accuracy', color='red')\n",
    "plt.title('Hasil Accuracy Training Data & Validation Data')\n",
    "plt.ylabel('Accuracy')\n",
    "plt.xlabel('Epoch')\n",
    "plt.grid(color='darkgray', linestyle=':', linewidth=0.5)\n",
    "plt.xlim(xmin=0)\n",
    "plt.legend(loc='best', shadow=True)\n",
    "plt.show()"
   ]
  },
  {
   "cell_type": "markdown",
   "metadata": {
    "id": "93Psm56WqkI2"
   },
   "source": [
    "# Tes hasil training"
   ]
  },
  {
   "cell_type": "code",
   "execution_count": null,
   "metadata": {
    "colab": {
     "base_uri": "https://localhost:8080/",
     "height": 358,
     "resources": {
      "http://localhost:8080/nbextensions/google.colab/files.js": {
       "data": "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",
       "headers": [
        [
         "content-type",
         "application/javascript"
        ]
       ],
       "ok": true,
       "status": 200,
       "status_text": ""
      }
     }
    },
    "id": "6k8bAOLy7DEA",
    "outputId": "799873a9-1d56-4660-83e5-b4af48f17759"
   },
   "outputs": [
    {
     "data": {
      "text/html": [
       "\n",
       "     <input type=\"file\" id=\"files-4233300d-3dee-45b6-8012-2d5b3b4bd758\" name=\"files[]\" multiple disabled\n",
       "        style=\"border:none\" />\n",
       "     <output id=\"result-4233300d-3dee-45b6-8012-2d5b3b4bd758\">\n",
       "      Upload widget is only available when the cell has been executed in the\n",
       "      current browser session. Please rerun this cell to enable.\n",
       "      </output>\n",
       "      <script src=\"/nbextensions/google.colab/files.js\"></script> "
      ],
      "text/plain": [
       "<IPython.core.display.HTML object>"
      ]
     },
     "metadata": {
      "tags": []
     },
     "output_type": "display_data"
    },
    {
     "name": "stdout",
     "output_type": "stream",
     "text": [
      "Saving sadfasdf.jpg to sadfasdf.jpg\n",
      "sadfasdf.jpg\n",
      "This is Rock!\n"
     ]
    },
    {
     "data": {
      "image/png": "[encoded data removed]",
      "text/plain": [
       "<Figure size 432x288 with 1 Axes>"
      ]
     },
     "metadata": {
      "needs_background": "light",
      "tags": []
     },
     "output_type": "display_data"
    }
   ],
   "source": [
    "uploaded = files.upload()\n",
    " \n",
    "for fn in uploaded.keys(): \n",
    "  # memprediksi gambar yang akan diupload\n",
    "  path = fn\n",
    "  img = image.load_img(path, target_size=(150,150))\n",
    "  imgplot = plt.imshow(img)\n",
    "  x = image.img_to_array(img)\n",
    "  x = np.expand_dims(x, axis=0)\n",
    " \n",
    "  images = np.vstack([x])\n",
    "  classes = model.predict(images, batch_size=10)\n",
    "  \n",
    "  print(fn)\n",
    "  if classes[0,0] == 1:\n",
    "    print(\"This is Paper!\")\n",
    "  elif classes[0,1] == 1:\n",
    "    print(\"This is Rock!\")\n",
    "  else:\n",
    "    print(\"This is Scissors!\")"
   ]
  },
  {
   "cell_type": "code",
   "execution_count": null,
   "metadata": {
    "id": "mSOUz9v__Na-"
   },
   "outputs": [],
   "source": []
  }
 ],
 "metadata": {
  "colab": {
   "collapsed_sections": [],
   "name": "paper_rock_scissors.ipynb",
   "provenance": [],
   "toc_visible": true
  },
  "kernelspec": {
   "display_name": "Python 3",
   "language": "python",
   "name": "python3"
  },
  "language_info": {
   "codemirror_mode": {
    "name": "ipython",
    "version": 3
   },
   "file_extension": ".py",
   "mimetype": "text/x-python",
   "name": "python",
   "nbconvert_exporter": "python",
   "pygments_lexer": "ipython3",
   "version": "3.8.3"
  }
 },
 "nbformat": 4,
 "nbformat_minor": 4
}
